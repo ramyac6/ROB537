{
 "cells": [
  {
   "cell_type": "code",
   "execution_count": 14,
   "id": "bd739d05",
   "metadata": {},
   "outputs": [],
   "source": [
    "import numpy as np\n",
    "import matplotlib.pyplot as plt\n",
    "from scipy.spatial.distance import pdist, squareform"
   ]
  },
  {
   "cell_type": "markdown",
   "id": "ebe72bdc",
   "metadata": {},
   "source": [
    "### Import file and compute distance matrix"
   ]
  },
  {
   "cell_type": "code",
   "execution_count": 15,
   "id": "855fe7cd",
   "metadata": {},
   "outputs": [
    {
     "name": "stdout",
     "output_type": "stream",
     "text": [
      "(25, 25)\n"
     ]
    }
   ],
   "source": [
    "city_points = np.loadtxt(open(\"hw2.csv\", \"rb\"), delimiter=\",\")\n",
    "dist_matrix = squareform(pdist(city_points, 'euclidean'))\n",
    "print(dist_matrix.shape)\n"
   ]
  },
  {
   "cell_type": "markdown",
   "id": "4b09fc40",
   "metadata": {},
   "source": [
    "### Helpers"
   ]
  },
  {
   "cell_type": "code",
   "execution_count": null,
   "id": "58820f63",
   "metadata": {},
   "outputs": [],
   "source": [
    "# create a random solution\n",
    "def random_tour():\n",
    "    numbers = list(range(1, 26))\n",
    "\n",
    "    # Shuffling the list to get a random order\n",
    "    random.shuffle(numbers)\n",
    "    \n",
    "    return numbers\n",
    "\n",
    "def compute_tour_cost(tour):\n",
    "    cost = 0\n",
    "    for i in range(tour-1):\n",
    "        cost = cost + dist_matrix[tour[i]][tour[i+1]]\n",
    "    cost = cost + dist_matrix[tour[0]][tour[tour.length]]"
   ]
  }
 ],
 "metadata": {
  "kernelspec": {
   "display_name": "Python 3 (ipykernel)",
   "language": "python",
   "name": "python3"
  },
  "language_info": {
   "codemirror_mode": {
    "name": "ipython",
    "version": 3
   },
   "file_extension": ".py",
   "mimetype": "text/x-python",
   "name": "python",
   "nbconvert_exporter": "python",
   "pygments_lexer": "ipython3",
   "version": "3.8.10"
  }
 },
 "nbformat": 4,
 "nbformat_minor": 5
}
